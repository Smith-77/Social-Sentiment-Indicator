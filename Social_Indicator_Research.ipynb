{
 "cells": [
  {
   "cell_type": "markdown",
   "metadata": {},
   "source": [
    "# Sentiment Indicator Research\n",
    "\n",
    "**Author:** Tim Smith\n",
    "\n",
    "**About:** This short research project uncovers the short-term sentiment expressed toward companies on Twitter. The project also demonstrates the unique, helpful skills that I can bring to SEED at Virginia Tech!\n",
    "\n",
    "## Overview\n",
    "\n",
    "Below is a brief outline of the project. The code for each section is provided beneath this overview.\n",
    "\n",
    "### Background\n",
    "\n",
    "Social sentiment indicators are a helpful tool that can give analysts a broader perspective on how a company's stock might perform. This can be useful for short-term investing, guaging broader attitudes toward companies and company momentum, or even aiding in brainstorming new investment ideas. Additionally, sentiment indicators from popular places such as Twitter and Reddit can be a part of a larger strategy for the newer value momentum investing sector that SEED at Virginia Tech is working on.\n",
    "\n",
    "### Method\n",
    "\n",
    "I followed the following steps to perform this research project:\n",
    "1. Connect to Twitter through its powerful API, Tweepy\n",
    "2. Retrieve relevant tweets pertaining to the companies over the past week\n",
    "3. Clean and store tweets in a pandas DataFrame\n",
    "4. Perform Sentiment Analysis on tweet text\n",
    "5. Visualize data and Draw Conclusions\n",
    "\n",
    "### Analysis and Conclusions\n",
    "\n",
    "While the scope of this project is currently narrow and fairly limited, one can see the overall trend of higher sentiment expresed toward Target on Twitter compared to its competitors, Walmart and Costco, during each day of the week. An expansion of this project could yield more nuanced insights into how consumers view these companies over time and compared to each other. This information could be used in a variety ways including to detect changes in company momentum and to generate new investing ideas. \n",
    "\n",
    "Example output from the week of March 19th - March 26th:\n",
    "\n",
    "![Sentiment expressed toward Target is higher than that toward Walmart and Costco](./examplePhotos/ExampleOutput_March_26_2021.PNG \"Twitter Sentiment Toward US Retailers\")\n",
    "\n",
    "### Reflections and Limitations\n",
    "\n",
    "Similar social sentiment research projects include searching for sentiment on Reddit (PRAW is a helpful API wrapper for this) and web crawling over popular investment websites (BeautifulSoup is a helpful library for this).\n",
    "\n",
    "Some limitations of this project include:\n",
    "1. The limits of the sentiment analysis method used (VADER sentiment)\n",
    "    * The VADER sentiment library is a very powerful sentiment analysis tool developed for detecting sentiment of social media posts, however\n",
    "    * VADER is geared toward a simplified positive, negative, neutral sentiment score, and\n",
    "    * The mean compound sentiment scores of each days' tweets is a very simplified measure that does not address greater nuances in Tweets over the time period\n",
    "1. The short time period of collected Tweets\n",
    "    * The Tweepy API limits accesses to tweets older than one week. To address this issue, once could either continuously collect tweets or look for another method to access historical Twitter data for analysis.\n",
    "    * The Tweepy API does not provide a way to collect tweets randomly, thus I made an effort to collect as large a data set as I could given the short time frame for the purposes of demonstrating a proof-of-concept/skills.\n",
    "\n"
   ]
  },
  {
   "cell_type": "markdown",
   "metadata": {},
   "source": [
    "# Step 1: Connect to Twitter with Tweepy API"
   ]
  },
  {
   "cell_type": "code",
   "execution_count": 1,
   "metadata": {},
   "outputs": [],
   "source": [
    "#import packages\n",
    "import tweepy\n",
    "import requests\n",
    "import pandas as pd\n",
    "import json\n",
    "import time\n",
    "import string\n",
    "from vaderSentiment.vaderSentiment import SentimentIntensityAnalyzer\n",
    "import datetime"
   ]
  },
  {
   "cell_type": "code",
   "execution_count": 2,
   "metadata": {},
   "outputs": [],
   "source": [
    "# Variables that contains the credentials to access Twitter API\n",
    "ACCESS_TOKEN = ''\n",
    "ACCESS_SECRET = ''\n",
    "CONSUMER_KEY = ''\n",
    "CONSUMER_SECRET = ''"
   ]
  },
  {
   "cell_type": "code",
   "execution_count": 3,
   "metadata": {},
   "outputs": [],
   "source": [
    "# Setup access to API\n",
    "def connect_to_twitter_OAuth():\n",
    "    auth = tweepy.OAuthHandler(CONSUMER_KEY, CONSUMER_SECRET)\n",
    "    auth.set_access_token(ACCESS_TOKEN, ACCESS_SECRET)\n",
    "\n",
    "    api = tweepy.API(auth)\n",
    "    return api\n",
    "\n",
    "\n",
    "# Create API object\n",
    "api = connect_to_twitter_OAuth()"
   ]
  },
  {
   "cell_type": "markdown",
   "metadata": {},
   "source": [
    "# Step 2: Retrieve Relevant Tweets About Companies\n",
    "\n",
    "NOTE: Because of the limits of the Tweepy API discussed in the project overview above, I cannot confirm that the Tweets that I collect are a random sample. Ways to solve this issue are in the overview above."
   ]
  },
  {
   "cell_type": "code",
   "execution_count": 4,
   "metadata": {},
   "outputs": [],
   "source": [
    "tweets = []\n",
    "\n",
    "# This function searches for Tweets from the since_date to the until_date using the query_string in its search.\n",
    "# It finds and stores a maximum of max_per_day tweets in the tweets array, then prints out a short report.\n",
    "def load_tweets_between_dates(since_date, until_date, query_string, tweets, max_per_day):\n",
    "    c = tweepy.Cursor(api.search,\n",
    "                           q=query_string,\n",
    "                           include_entities=True, \n",
    "                           lange='en',\n",
    "                           tweet_mode='extended',\n",
    "                           since=since_date,\n",
    "                           until=until_date).items(max_per_day)\n",
    "    initial_length = len(tweets)\n",
    "    while True:\n",
    "        try:\n",
    "            tweet = c.next()\n",
    "            tweets.append(tweet)\n",
    "        except tweepy.TweepError:\n",
    "            if (len(tweets) > 100000):\n",
    "                break\n",
    "            print(\"\\tHit rate limit! Going to sleep zzzzzzzzzz.....\")\n",
    "            for i in range(0, 3):\n",
    "                print(\"\\t%d minutes left\" % ((3-i)*5))\n",
    "                time.sleep(60 * 5)\n",
    "            time.sleep(10)\n",
    "            continue\n",
    "        except StopIteration:\n",
    "            print(\"Collected %d tweets between %s and %s.\\n\" % (len(tweets) - initial_length, since_date, until_date))\n",
    "            return\n",
    "        except Exception as e:\n",
    "            print(e)\n",
    "            \n",
    "    print(\"Collected %d tweets between %s and %s.\\n\" % (len(tweets) - initial_length, since_date, until_date))"
   ]
  },
  {
   "cell_type": "code",
   "execution_count": 5,
   "metadata": {},
   "outputs": [],
   "source": [
    "# This method collects tweets using the query_string in its search and stores found tweets in the tweets array.\n",
    "# It finds tweets for each day in the past week, and prints out a report of its findings.\n",
    "def collect_weeks_tweets_about(query_string, tweets):\n",
    "    days_back = 8\n",
    "    max_tweets = 1500\n",
    "    print(\"BEGINNING...\\n\")\n",
    "    for i in range(0, days_back):\n",
    "        since_day = (datetime.datetime.today() - datetime.timedelta(days=i)).strftime('%Y-%m-%d')\n",
    "        until_day = (datetime.datetime.today() - datetime.timedelta(days=i - 1)).strftime('%Y-%m-%d') # up to tomorrow\n",
    "        load_tweets_between_dates(since_day, until_day, query_string, tweets, max_tweets)\n",
    "    \n",
    "    print(\"FINISHED!\")        \n",
    "    print(\"%d tweets collected!\\n\" % len(tweets))"
   ]
  },
  {
   "cell_type": "code",
   "execution_count": 6,
   "metadata": {},
   "outputs": [
    {
     "name": "stdout",
     "output_type": "stream",
     "text": [
      "BEGINNING...\n",
      "\n",
      "Collected 1500 tweets between 2021-03-26 and 2021-03-27.\n",
      "\n",
      "\tHit rate limit! Going to sleep zzzzzzzzzz.....\n",
      "\t15 minutes left\n",
      "\t10 minutes left\n",
      "\t5 minutes left\n",
      "Collected 1500 tweets between 2021-03-25 and 2021-03-26.\n",
      "\n",
      "Collected 1500 tweets between 2021-03-24 and 2021-03-25.\n",
      "\n",
      "\tHit rate limit! Going to sleep zzzzzzzzzz.....\n",
      "\t15 minutes left\n",
      "\t10 minutes left\n",
      "\t5 minutes left\n",
      "Collected 1500 tweets between 2021-03-23 and 2021-03-24.\n",
      "\n",
      "Collected 1500 tweets between 2021-03-22 and 2021-03-23.\n",
      "\n",
      "\tHit rate limit! Going to sleep zzzzzzzzzz.....\n",
      "\t15 minutes left\n",
      "\t10 minutes left\n",
      "\t5 minutes left\n",
      "Collected 1500 tweets between 2021-03-21 and 2021-03-22.\n",
      "\n",
      "Collected 1500 tweets between 2021-03-20 and 2021-03-21.\n",
      "\n",
      "\tHit rate limit! Going to sleep zzzzzzzzzz.....\n",
      "\t15 minutes left\n",
      "\t10 minutes left\n",
      "\t5 minutes left\n",
      "Collected 1500 tweets between 2021-03-19 and 2021-03-20.\n",
      "\n",
      "FINISHED!\n",
      "12000 tweets collected!\n",
      "\n",
      "BEGINNING...\n",
      "\n",
      "Collected 79 tweets between 2021-03-26 and 2021-03-27.\n",
      "\n",
      "Collected 163 tweets between 2021-03-25 and 2021-03-26.\n",
      "\n",
      "Collected 168 tweets between 2021-03-24 and 2021-03-25.\n",
      "\n",
      "Collected 119 tweets between 2021-03-23 and 2021-03-24.\n",
      "\n",
      "Collected 155 tweets between 2021-03-22 and 2021-03-23.\n",
      "\n",
      "Collected 394 tweets between 2021-03-21 and 2021-03-22.\n",
      "\n",
      "\tHit rate limit! Going to sleep zzzzzzzzzz.....\n",
      "\t15 minutes left\n",
      "\t10 minutes left\n",
      "\t5 minutes left\n",
      "Collected 1500 tweets between 2021-03-20 and 2021-03-21.\n",
      "\n",
      "Collected 592 tweets between 2021-03-19 and 2021-03-20.\n",
      "\n",
      "FINISHED!\n",
      "3170 tweets collected!\n",
      "\n",
      "BEGINNING...\n",
      "\n",
      "\tHit rate limit! Going to sleep zzzzzzzzzz.....\n",
      "\t15 minutes left\n",
      "\t10 minutes left\n",
      "\t5 minutes left\n",
      "Collected 1500 tweets between 2021-03-26 and 2021-03-27.\n",
      "\n",
      "Collected 1500 tweets between 2021-03-25 and 2021-03-26.\n",
      "\n",
      "\tHit rate limit! Going to sleep zzzzzzzzzz.....\n",
      "\t15 minutes left\n",
      "\t10 minutes left\n",
      "\t5 minutes left\n",
      "Collected 1500 tweets between 2021-03-24 and 2021-03-25.\n",
      "\n",
      "Collected 1500 tweets between 2021-03-23 and 2021-03-24.\n",
      "\n",
      "\tHit rate limit! Going to sleep zzzzzzzzzz.....\n",
      "\t15 minutes left\n",
      "\t10 minutes left\n",
      "\t5 minutes left\n",
      "Collected 1500 tweets between 2021-03-22 and 2021-03-23.\n",
      "\n",
      "\tHit rate limit! Going to sleep zzzzzzzzzz.....\n",
      "\t15 minutes left\n",
      "\t10 minutes left\n",
      "\t5 minutes left\n",
      "Collected 1500 tweets between 2021-03-21 and 2021-03-22.\n",
      "\n",
      "Collected 1500 tweets between 2021-03-20 and 2021-03-21.\n",
      "\n",
      "\tHit rate limit! Going to sleep zzzzzzzzzz.....\n",
      "\t15 minutes left\n",
      "\t10 minutes left\n",
      "\t5 minutes left\n",
      "Collected 1500 tweets between 2021-03-19 and 2021-03-20.\n",
      "\n",
      "FINISHED!\n",
      "12000 tweets collected!\n",
      "\n"
     ]
    }
   ],
   "source": [
    "# collect tweets about Target, Walmart, and Costco\n",
    "costco_query = \"Costco\" # LIMITATION: its ticker, COST, is too generic\n",
    "costco_tweets = []\n",
    "collect_weeks_tweets_about(costco_query, costco_tweets)\n",
    "\n",
    "target_query = \"Target Inc OR Target Inc. OR Target incorporated OR Target Corp OR Target corp OR Target corp. OR Target corporation OR TGT\"\n",
    "target_tweets = [] # LIMITATION: its name, Target, is too generic by itself\n",
    "collect_weeks_tweets_about(target_query, target_tweets)\n",
    "\n",
    "# \"Walmart OR WMT\"\n",
    "walmart_query = \"Walmart OR WMT\"\n",
    "walmart_tweets = []\n",
    "collect_weeks_tweets_about(walmart_query, walmart_tweets)"
   ]
  },
  {
   "cell_type": "markdown",
   "metadata": {},
   "source": [
    "# Step 3: Clean Data"
   ]
  },
  {
   "cell_type": "code",
   "execution_count": 14,
   "metadata": {},
   "outputs": [],
   "source": [
    "# This function takes an array of tweets and converts them to a pandas dataframe\n",
    "def tweets_to_dataframe(tweets):\n",
    "\n",
    "    # Load tweets' _json attribute into a json object \n",
    "    json_tweets = []\n",
    "    for i in range(0, len(tweets)):\n",
    "        new_tweet = json.loads(json.dumps(tweets[i]._json))\n",
    "        json_tweets.append(new_tweet)\n",
    "    \n",
    "    # create a pandas DataFrame from the json object so data is easier to work with\n",
    "    pd.set_option(\"display.max_colwidth\", None) # Set display so text is not truncated\n",
    "    df = pd.json_normalize(json_tweets)\n",
    "\n",
    "    return df\n",
    "    "
   ]
  },
  {
   "cell_type": "code",
   "execution_count": 15,
   "metadata": {},
   "outputs": [],
   "source": [
    "# This function produces a slimmer dataframe containing more relevant, cleaned fields \n",
    "def get_cleaned_dataframe(df):\n",
    "    # Create a new pandas DataFrame that holds most relevant information\n",
    "    tweetsDF = pd.DataFrame()\n",
    "    tweetsDF['User_Name'] = df['user.name']\n",
    "    tweetsDF['User_Screen_Name'] = df['user.screen_name']\n",
    "\n",
    "    tweetsDF['Text'] = df['full_text']\n",
    "    tweetsDF['ID'] = df['id']\n",
    "    tweetsDF['Retweet_Count'] = df['retweet_count']\n",
    "    tweetsDF['Favorite_Count'] = df['favorite_count']\n",
    "\n",
    "    tweetsDF['User_ID'] = df['user.id']\n",
    "    tweetsDF['Language'] = df['lang']\n",
    "    tweetsDF['Date'] = df.created_at.map(lambda date: int(date.split()[2]))\n",
    "    first = str(tweetsDF['Text'].iloc[0:1])\n",
    "\n",
    "    # remove repeat posts with same text by the same author\n",
    "    original_rows = tweetsDF.shape[0]\n",
    "    tweetsDF.drop_duplicates(subset=['User_ID', 'Text'])\n",
    "    kept_rows = tweetsDF.shape[0]\n",
    "    rows_removed = original_rows - kept_rows\n",
    "    print(\"%d duplicate data entries were removed from the data set.\" % rows_removed)\n",
    "    \n",
    "    return tweetsDF"
   ]
  },
  {
   "cell_type": "code",
   "execution_count": 16,
   "metadata": {},
   "outputs": [
    {
     "name": "stdout",
     "output_type": "stream",
     "text": [
      "0 duplicate data entries were removed from the data set.\n",
      "0 duplicate data entries were removed from the data set.\n",
      "0 duplicate data entries were removed from the data set.\n"
     ]
    }
   ],
   "source": [
    "# Getting dataframes from collected tweets\n",
    "targetDF = get_cleaned_dataframe(tweets_to_dataframe(target_tweets))\n",
    "walmartDF = get_cleaned_dataframe(tweets_to_dataframe(walmart_tweets))\n",
    "costcoDF = get_cleaned_dataframe(tweets_to_dataframe(costco_tweets))"
   ]
  },
  {
   "cell_type": "markdown",
   "metadata": {},
   "source": [
    "# Step 4: Perform Sentiment Analysis"
   ]
  },
  {
   "cell_type": "code",
   "execution_count": null,
   "metadata": {},
   "outputs": [],
   "source": [
    "# conduct sentiment analysis with VADER sentiment tool - designed for determining overall sentiment on social media\n",
    "# Vader is especially designed for social media analysis as it looks at things like >:( and ??? or WTF\n",
    "def get_sentiment(tweetsDF):\n",
    "    analyzer= SentimentIntensityAnalyzer()\n",
    "    \n",
    "    tweetsDF['Sentiment'] = tweetsDF.Text.map(lambda t: analyzer.polarity_scores(t)[\"compound\"])\n",
    "    \n",
    "# getting the sentiment\n",
    "get_sentiment(walmartDF)\n",
    "get_sentiment(targetDF)\n",
    "get_sentiment(costcoDF)"
   ]
  },
  {
   "cell_type": "markdown",
   "metadata": {},
   "source": [
    "# Step 5 Visualize and Draw Conclusions"
   ]
  },
  {
   "cell_type": "code",
   "execution_count": 23,
   "metadata": {
    "scrolled": true
   },
   "outputs": [
    {
     "data": {
      "image/png": "[encoded data removed]",
      "text/plain": [
       "<Figure size 720x216 with 1 Axes>"
      ]
     },
     "metadata": {
      "needs_background": "light"
     },
     "output_type": "display_data"
    }
   ],
   "source": [
    "# Plot mean sentiments for each company per day\n",
    "groupedDF = targetDF.groupby('Date').mean()\n",
    "plot = groupedDF.plot.line(y='Sentiment', figsize=(10,3), label='Target')\n",
    "plot.set_ylabel('Average Daily Sentiment')\n",
    "plot.set_xlabel('Day in March')\n",
    "plot.set_title('Twitter Sentiment toward Target during a Week in March')\n",
    "    \n",
    "# This method adds a line to the plot\n",
    "def plot_sentiment(tweetsDF, plot, label):\n",
    "    groupedDF = tweetsDF.groupby('Date').mean()\n",
    "    # print(groupedDF.iloc[:,-1:])\n",
    "    plot = groupedDF.plot.line(y='Sentiment', figsize=(10,3), ax=plot, label=label)\n",
    "    plot.set_ylabel('Average Daily Sentiment')\n",
    "    plot.set_xlabel('Day in March')\n",
    "    plot.set_title('Twitter Sentiment toward US Retailers during a Week in March')\n",
    "    return plot\n",
    "    \n",
    "plot = plot_sentiment(walmartDF, plot, 'Walmart')\n",
    "plot = plot_sentiment(costcoDF, plot, 'Costco')"
   ]
  },
  {
   "cell_type": "markdown",
   "metadata": {},
   "source": [
    "### Conclusions:\n",
    "While the scope of this project is currently narrow and limited, one can see the overall trend of higher sentiment expresed toward Target on Twitter during each day of the week. An expansion of this project could yield more nuanced insights into how consumers view these companies over time and compared to each other. This information could be used in a variety ways including to detect changes in company momentum over time. "
   ]
  },
  {
   "cell_type": "code",
   "execution_count": 22,
   "metadata": {},
   "outputs": [],
   "source": [
    "# Store data into a csv for later use\n",
    "today = datetime.datetime.today().strftime('%Y-%m-%d')\n",
    "targetDF.to_csv('./TargetData_%s.csv' % today)\n",
    "walmartDF.to_csv('./WalmartData_%s.csv' % today)\n",
    "costcoDF.to_csv('./CostcoData_%s.csv' % today)"
   ]
  },
  {
   "cell_type": "markdown",
   "metadata": {},
   "source": [
    "# Text Cleaning Functions\n",
    "These functions were not used but are preserved below. They are useful for converting text into cleaned bags of words"
   ]
  },
  {
   "cell_type": "code",
   "execution_count": null,
   "metadata": {},
   "outputs": [],
   "source": [
    "# clean review text and turn into a bag with stop words removed\n",
    "def clean_review_text(reviewText):\n",
    "    reviewBag = reviewText.lower().split()\n",
    "    reviewBag = [word for word in reviewBag if not word.startswith('@')]\n",
    "    reviewBag = [word for word in reviewBag if 'https' not in word]\n",
    "    reviewBag = [word for word in reviewBag if not word in all_stopwords]\n",
    "    reviewBag = [strip_punctuation_and_digits(word) for word in reviewBag]\n",
    "    return reviewBag\n",
    "\n",
    "def clean_text(text):\n",
    "    text = text.lower()\n",
    "    text = strip_punctuation_and_digits(text)\n",
    "    return text\n",
    "    \n",
    "# clean strings in bag of punctuation and numbers\n",
    "def strip_punctuation_and_digits(text):\n",
    "    for thing in string.punctuation:\n",
    "        text = text.replace(thing, '')\n",
    "    for thing in string.digits:\n",
    "        text = text.replace(thing, '')\n",
    "    text = text.replace('\"', '').replace(\"'\", '')\n",
    "    return text\n",
    "\n",
    "tweetsDF['Bag'] = tweetsDF.Text.map(lambda t: clean_review_text(t))\n",
    "tweetsDF.head(10)\n",
    "tweetsDF.Bag.iloc[8:9]"
   ]
  },
  {
   "cell_type": "code",
   "execution_count": null,
   "metadata": {},
   "outputs": [],
   "source": [
    "for i in range(0, 10):\n",
    "    print(i)\n",
    "    for tweet in tweepy.Cursor(api.search, q='#Oracle', count=5, \n",
    "        lang='en').items(): # since='2017-06-20'\n",
    "        tweets.append(tweet)\n",
    "    time.sleep(1)\n",
    "\n",
    "print(tweets)\n",
    "    \n",
    "for tweet in tweepy.Cursor(api.search, q='#Oracle', count=1, \n",
    "    lang='en').items(): # since='2017-06-20'\n",
    "        tweets.append(tweet)"
   ]
  },
  {
   "cell_type": "code",
   "execution_count": null,
   "metadata": {},
   "outputs": [],
   "source": [
    "# Scratchwork:\n",
    "\n",
    "# tweets from a specific user\n",
    "# chickfila_tweets = api.user_timeline('Chickfila')\n",
    "# for tweet in chickfila_tweets:\n",
    "#     print(tweet.text)\n",
    "\n",
    "# fetched_tweets = api.search(\"MathWorks\", count = 6)\n",
    "# for tweet in fetched_tweets:\n",
    "#     print(tweet.text)"
   ]
  }
 ],
 "metadata": {
  "kernelspec": {
   "display_name": "Python 3",
   "language": "python",
   "name": "python3"
  },
  "language_info": {
   "codemirror_mode": {
    "name": "ipython",
    "version": 3
   },
   "file_extension": ".py",
   "mimetype": "text/x-python",
   "name": "python",
   "nbconvert_exporter": "python",
   "pygments_lexer": "ipython3",
   "version": "3.8.5"
  }
 },
 "nbformat": 4,
 "nbformat_minor": 4
}
